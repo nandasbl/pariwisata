{
  "nbformat": 4,
  "nbformat_minor": 0,
  "metadata": {
    "colab": {
      "name": "Untitled1.ipynb",
      "provenance": [],
      "authorship_tag": "ABX9TyP9/iBhthPeeo7FlGylnSfZ",
      "include_colab_link": true
    },
    "kernelspec": {
      "name": "python3",
      "display_name": "Python 3"
    }
  },
  "cells": [
    {
      "cell_type": "markdown",
      "metadata": {
        "id": "view-in-github",
        "colab_type": "text"
      },
      "source": [
        "<a href=\"https://colab.research.google.com/github/nandasbl/pariwisata/blob/main/Pariwisata%20pulau%20seribu%20januari-juni.ipynb\" target=\"_parent\"><img src=\"https://colab.research.google.com/assets/colab-badge.svg\" alt=\"Open In Colab\"/></a>"
      ]
    },
    {
      "cell_type": "code",
      "metadata": {
        "id": "UOciMiot0qsd"
      },
      "source": [
        "# Importing Some Python Modules\n",
        "import warnings; warnings.simplefilter('ignore')\n",
        "import scipy, itertools, pandas as pd, matplotlib.pyplot as plt, seaborn as sns, numpy as np\n",
        "from scipy import stats\n",
        "from sklearn.preprocessing import StandardScaler, MinMaxScaler\n",
        "import itertools\n",
        "import statsmodels.api as sm\n",
        "import matplotlib\n",
        "\n",
        "plt.style.use('fivethirtyeight')\n",
        "matplotlib.rcParams['axes.labelsize'] = 14\n",
        "matplotlib.rcParams['xtick.labelsize'] = 12\n",
        "matplotlib.rcParams['ytick.labelsize'] = 12\n",
        "matplotlib.rcParams['text.color'] = 'k'\n",
        "\n",
        "plt.style.use('bmh'); sns.set()"
      ],
      "execution_count": 46,
      "outputs": []
    },
    {
      "cell_type": "code",
      "metadata": {
        "colab": {
          "base_uri": "https://localhost:8080/",
          "height": 406
        },
        "id": "r69QYJp90wjq",
        "outputId": "b7ecfb9b-ae5b-46cf-9f96-815072e966ea"
      },
      "source": [
        "Pn = pd.read_csv('https://raw.githubusercontent.com/nandasbl/pariwisata/main/data-penumpang-kapal-bulan-januari-juni%202020.csv', sep=',')\n",
        "Pn"
      ],
      "execution_count": 47,
      "outputs": [
        {
          "output_type": "execute_result",
          "data": {
            "text/html": [
              "<div>\n",
              "<style scoped>\n",
              "    .dataframe tbody tr th:only-of-type {\n",
              "        vertical-align: middle;\n",
              "    }\n",
              "\n",
              "    .dataframe tbody tr th {\n",
              "        vertical-align: top;\n",
              "    }\n",
              "\n",
              "    .dataframe thead th {\n",
              "        text-align: right;\n",
              "    }\n",
              "</style>\n",
              "<table border=\"1\" class=\"dataframe\">\n",
              "  <thead>\n",
              "    <tr style=\"text-align: right;\">\n",
              "      <th></th>\n",
              "      <th>tanggal</th>\n",
              "      <th>pelabuhan</th>\n",
              "      <th>kapal_berangkat</th>\n",
              "      <th>kapal_tiba</th>\n",
              "      <th>penumpang_naik</th>\n",
              "      <th>penumpang_turun</th>\n",
              "    </tr>\n",
              "  </thead>\n",
              "  <tbody>\n",
              "    <tr>\n",
              "      <th>0</th>\n",
              "      <td>1/1/2020</td>\n",
              "      <td>MUARA ANGKE</td>\n",
              "      <td>13</td>\n",
              "      <td>23</td>\n",
              "      <td>549</td>\n",
              "      <td>3989</td>\n",
              "    </tr>\n",
              "    <tr>\n",
              "      <th>1</th>\n",
              "      <td>1/2/2020</td>\n",
              "      <td>MUARA ANGKE</td>\n",
              "      <td>15</td>\n",
              "      <td>13</td>\n",
              "      <td>831</td>\n",
              "      <td>1374</td>\n",
              "    </tr>\n",
              "    <tr>\n",
              "      <th>2</th>\n",
              "      <td>1/3/2020</td>\n",
              "      <td>MUARA ANGKE</td>\n",
              "      <td>11</td>\n",
              "      <td>12</td>\n",
              "      <td>921</td>\n",
              "      <td>800</td>\n",
              "    </tr>\n",
              "    <tr>\n",
              "      <th>3</th>\n",
              "      <td>1/4/2020</td>\n",
              "      <td>MUARA ANGKE</td>\n",
              "      <td>17</td>\n",
              "      <td>7</td>\n",
              "      <td>1838</td>\n",
              "      <td>551</td>\n",
              "    </tr>\n",
              "    <tr>\n",
              "      <th>4</th>\n",
              "      <td>1/5/2020</td>\n",
              "      <td>MUARA ANGKE</td>\n",
              "      <td>7</td>\n",
              "      <td>15</td>\n",
              "      <td>600</td>\n",
              "      <td>1768</td>\n",
              "    </tr>\n",
              "    <tr>\n",
              "      <th>...</th>\n",
              "      <td>...</td>\n",
              "      <td>...</td>\n",
              "      <td>...</td>\n",
              "      <td>...</td>\n",
              "      <td>...</td>\n",
              "      <td>...</td>\n",
              "    </tr>\n",
              "    <tr>\n",
              "      <th>1816</th>\n",
              "      <td>6/26/2020</td>\n",
              "      <td>SABIRA</td>\n",
              "      <td>1</td>\n",
              "      <td>1</td>\n",
              "      <td>8</td>\n",
              "      <td>8</td>\n",
              "    </tr>\n",
              "    <tr>\n",
              "      <th>1817</th>\n",
              "      <td>6/27/2020</td>\n",
              "      <td>SABIRA</td>\n",
              "      <td>0</td>\n",
              "      <td>1</td>\n",
              "      <td>0</td>\n",
              "      <td>12</td>\n",
              "    </tr>\n",
              "    <tr>\n",
              "      <th>1818</th>\n",
              "      <td>6/28/2020</td>\n",
              "      <td>SABIRA</td>\n",
              "      <td>1</td>\n",
              "      <td>0</td>\n",
              "      <td>12</td>\n",
              "      <td>0</td>\n",
              "    </tr>\n",
              "    <tr>\n",
              "      <th>1819</th>\n",
              "      <td>6/29/2020</td>\n",
              "      <td>SABIRA</td>\n",
              "      <td>1</td>\n",
              "      <td>2</td>\n",
              "      <td>0</td>\n",
              "      <td>23</td>\n",
              "    </tr>\n",
              "    <tr>\n",
              "      <th>1820</th>\n",
              "      <td>6/30/2020</td>\n",
              "      <td>SABIRA</td>\n",
              "      <td>0</td>\n",
              "      <td>1</td>\n",
              "      <td>0</td>\n",
              "      <td>5</td>\n",
              "    </tr>\n",
              "  </tbody>\n",
              "</table>\n",
              "<p>1821 rows × 6 columns</p>\n",
              "</div>"
            ],
            "text/plain": [
              "        tanggal    pelabuhan  ...  penumpang_naik  penumpang_turun\n",
              "0      1/1/2020  MUARA ANGKE  ...             549             3989\n",
              "1      1/2/2020  MUARA ANGKE  ...             831             1374\n",
              "2      1/3/2020  MUARA ANGKE  ...             921              800\n",
              "3      1/4/2020  MUARA ANGKE  ...            1838              551\n",
              "4      1/5/2020  MUARA ANGKE  ...             600             1768\n",
              "...         ...          ...  ...             ...              ...\n",
              "1816  6/26/2020       SABIRA  ...               8                8\n",
              "1817  6/27/2020       SABIRA  ...               0               12\n",
              "1818  6/28/2020       SABIRA  ...              12                0\n",
              "1819  6/29/2020       SABIRA  ...               0               23\n",
              "1820  6/30/2020       SABIRA  ...               0                5\n",
              "\n",
              "[1821 rows x 6 columns]"
            ]
          },
          "metadata": {
            "tags": []
          },
          "execution_count": 47
        }
      ]
    },
    {
      "cell_type": "code",
      "metadata": {
        "colab": {
          "base_uri": "https://localhost:8080/",
          "height": 197
        },
        "id": "Mf9afn8-28ni",
        "outputId": "fbfa6182-d908-4aa1-8d60-ba92aece8898"
      },
      "source": [
        "Pn.head()"
      ],
      "execution_count": 48,
      "outputs": [
        {
          "output_type": "execute_result",
          "data": {
            "text/html": [
              "<div>\n",
              "<style scoped>\n",
              "    .dataframe tbody tr th:only-of-type {\n",
              "        vertical-align: middle;\n",
              "    }\n",
              "\n",
              "    .dataframe tbody tr th {\n",
              "        vertical-align: top;\n",
              "    }\n",
              "\n",
              "    .dataframe thead th {\n",
              "        text-align: right;\n",
              "    }\n",
              "</style>\n",
              "<table border=\"1\" class=\"dataframe\">\n",
              "  <thead>\n",
              "    <tr style=\"text-align: right;\">\n",
              "      <th></th>\n",
              "      <th>tanggal</th>\n",
              "      <th>pelabuhan</th>\n",
              "      <th>kapal_berangkat</th>\n",
              "      <th>kapal_tiba</th>\n",
              "      <th>penumpang_naik</th>\n",
              "      <th>penumpang_turun</th>\n",
              "    </tr>\n",
              "  </thead>\n",
              "  <tbody>\n",
              "    <tr>\n",
              "      <th>0</th>\n",
              "      <td>1/1/2020</td>\n",
              "      <td>MUARA ANGKE</td>\n",
              "      <td>13</td>\n",
              "      <td>23</td>\n",
              "      <td>549</td>\n",
              "      <td>3989</td>\n",
              "    </tr>\n",
              "    <tr>\n",
              "      <th>1</th>\n",
              "      <td>1/2/2020</td>\n",
              "      <td>MUARA ANGKE</td>\n",
              "      <td>15</td>\n",
              "      <td>13</td>\n",
              "      <td>831</td>\n",
              "      <td>1374</td>\n",
              "    </tr>\n",
              "    <tr>\n",
              "      <th>2</th>\n",
              "      <td>1/3/2020</td>\n",
              "      <td>MUARA ANGKE</td>\n",
              "      <td>11</td>\n",
              "      <td>12</td>\n",
              "      <td>921</td>\n",
              "      <td>800</td>\n",
              "    </tr>\n",
              "    <tr>\n",
              "      <th>3</th>\n",
              "      <td>1/4/2020</td>\n",
              "      <td>MUARA ANGKE</td>\n",
              "      <td>17</td>\n",
              "      <td>7</td>\n",
              "      <td>1838</td>\n",
              "      <td>551</td>\n",
              "    </tr>\n",
              "    <tr>\n",
              "      <th>4</th>\n",
              "      <td>1/5/2020</td>\n",
              "      <td>MUARA ANGKE</td>\n",
              "      <td>7</td>\n",
              "      <td>15</td>\n",
              "      <td>600</td>\n",
              "      <td>1768</td>\n",
              "    </tr>\n",
              "  </tbody>\n",
              "</table>\n",
              "</div>"
            ],
            "text/plain": [
              "    tanggal    pelabuhan  ...  penumpang_naik  penumpang_turun\n",
              "0  1/1/2020  MUARA ANGKE  ...             549             3989\n",
              "1  1/2/2020  MUARA ANGKE  ...             831             1374\n",
              "2  1/3/2020  MUARA ANGKE  ...             921              800\n",
              "3  1/4/2020  MUARA ANGKE  ...            1838              551\n",
              "4  1/5/2020  MUARA ANGKE  ...             600             1768\n",
              "\n",
              "[5 rows x 6 columns]"
            ]
          },
          "metadata": {
            "tags": []
          },
          "execution_count": 48
        }
      ]
    },
    {
      "cell_type": "code",
      "metadata": {
        "colab": {
          "base_uri": "https://localhost:8080/"
        },
        "id": "-voIqDVa3FKh",
        "outputId": "2d8090f4-cf23-488b-f46b-ef65a9e5c9a7"
      },
      "source": [
        "Pn.info()"
      ],
      "execution_count": 49,
      "outputs": [
        {
          "output_type": "stream",
          "text": [
            "<class 'pandas.core.frame.DataFrame'>\n",
            "RangeIndex: 1821 entries, 0 to 1820\n",
            "Data columns (total 6 columns):\n",
            " #   Column           Non-Null Count  Dtype \n",
            "---  ------           --------------  ----- \n",
            " 0   tanggal          1821 non-null   object\n",
            " 1   pelabuhan        1821 non-null   object\n",
            " 2   kapal_berangkat  1821 non-null   int64 \n",
            " 3   kapal_tiba       1821 non-null   int64 \n",
            " 4   penumpang_naik   1821 non-null   int64 \n",
            " 5   penumpang_turun  1821 non-null   int64 \n",
            "dtypes: int64(4), object(2)\n",
            "memory usage: 85.5+ KB\n"
          ],
          "name": "stdout"
        }
      ]
    },
    {
      "cell_type": "code",
      "metadata": {
        "colab": {
          "base_uri": "https://localhost:8080/"
        },
        "id": "o0vAYNon3VvQ",
        "outputId": "eccd0a51-11af-485f-8d15-a318890c396e"
      },
      "source": [
        "print(Pn.shape)\n",
        "Pn.duplicated().sum()"
      ],
      "execution_count": 50,
      "outputs": [
        {
          "output_type": "stream",
          "text": [
            "(1821, 6)\n"
          ],
          "name": "stdout"
        },
        {
          "output_type": "execute_result",
          "data": {
            "text/plain": [
              "2"
            ]
          },
          "metadata": {
            "tags": []
          },
          "execution_count": 50
        }
      ]
    },
    {
      "cell_type": "code",
      "metadata": {
        "id": "jL_OVKUHEKDL",
        "outputId": "9343be2d-2e28-4813-d53c-6d6b6da89e9c",
        "colab": {
          "base_uri": "https://localhost:8080/"
        }
      },
      "source": [
        "Pn.drop_duplicates(inplace=True)\r\n",
        "print(Pn.duplicated().sum()) # no more duplicates\r\n",
        "print(Pn.shape) # re-check by printing data size"
      ],
      "execution_count": 51,
      "outputs": [
        {
          "output_type": "stream",
          "text": [
            "0\n",
            "(1819, 6)\n"
          ],
          "name": "stdout"
        }
      ]
    },
    {
      "cell_type": "code",
      "metadata": {
        "colab": {
          "base_uri": "https://localhost:8080/"
        },
        "id": "bKRs-DYv4Yc1",
        "outputId": "20faa123-155f-49cf-e53a-3153b4580c12"
      },
      "source": [
        "Pn['tanggal'] = Pn['tanggal'].astype('datetime64[ns]')\n",
        "Pn.dtypes"
      ],
      "execution_count": 52,
      "outputs": [
        {
          "output_type": "execute_result",
          "data": {
            "text/plain": [
              "tanggal            datetime64[ns]\n",
              "pelabuhan                  object\n",
              "kapal_berangkat             int64\n",
              "kapal_tiba                  int64\n",
              "penumpang_naik              int64\n",
              "penumpang_turun             int64\n",
              "dtype: object"
            ]
          },
          "metadata": {
            "tags": []
          },
          "execution_count": 52
        }
      ]
    },
    {
      "cell_type": "code",
      "metadata": {
        "colab": {
          "base_uri": "https://localhost:8080/",
          "height": 287
        },
        "id": "ygYZ6rxY4o2x",
        "outputId": "9800b41a-c608-4b9a-f6a2-409e1d557f46"
      },
      "source": [
        "Pn.describe()"
      ],
      "execution_count": 53,
      "outputs": [
        {
          "output_type": "execute_result",
          "data": {
            "text/html": [
              "<div>\n",
              "<style scoped>\n",
              "    .dataframe tbody tr th:only-of-type {\n",
              "        vertical-align: middle;\n",
              "    }\n",
              "\n",
              "    .dataframe tbody tr th {\n",
              "        vertical-align: top;\n",
              "    }\n",
              "\n",
              "    .dataframe thead th {\n",
              "        text-align: right;\n",
              "    }\n",
              "</style>\n",
              "<table border=\"1\" class=\"dataframe\">\n",
              "  <thead>\n",
              "    <tr style=\"text-align: right;\">\n",
              "      <th></th>\n",
              "      <th>kapal_berangkat</th>\n",
              "      <th>kapal_tiba</th>\n",
              "      <th>penumpang_naik</th>\n",
              "      <th>penumpang_turun</th>\n",
              "    </tr>\n",
              "  </thead>\n",
              "  <tbody>\n",
              "    <tr>\n",
              "      <th>count</th>\n",
              "      <td>1819.000000</td>\n",
              "      <td>1819.000000</td>\n",
              "      <td>1819.000000</td>\n",
              "      <td>1819.000000</td>\n",
              "    </tr>\n",
              "    <tr>\n",
              "      <th>mean</th>\n",
              "      <td>2.953821</td>\n",
              "      <td>3.003299</td>\n",
              "      <td>81.726223</td>\n",
              "      <td>80.573392</td>\n",
              "    </tr>\n",
              "    <tr>\n",
              "      <th>std</th>\n",
              "      <td>3.251649</td>\n",
              "      <td>3.444993</td>\n",
              "      <td>193.149021</td>\n",
              "      <td>202.683223</td>\n",
              "    </tr>\n",
              "    <tr>\n",
              "      <th>min</th>\n",
              "      <td>0.000000</td>\n",
              "      <td>0.000000</td>\n",
              "      <td>0.000000</td>\n",
              "      <td>0.000000</td>\n",
              "    </tr>\n",
              "    <tr>\n",
              "      <th>25%</th>\n",
              "      <td>1.000000</td>\n",
              "      <td>1.000000</td>\n",
              "      <td>0.000000</td>\n",
              "      <td>0.000000</td>\n",
              "    </tr>\n",
              "    <tr>\n",
              "      <th>50%</th>\n",
              "      <td>2.000000</td>\n",
              "      <td>2.000000</td>\n",
              "      <td>18.000000</td>\n",
              "      <td>17.000000</td>\n",
              "    </tr>\n",
              "    <tr>\n",
              "      <th>75%</th>\n",
              "      <td>4.000000</td>\n",
              "      <td>4.000000</td>\n",
              "      <td>86.500000</td>\n",
              "      <td>90.000000</td>\n",
              "    </tr>\n",
              "    <tr>\n",
              "      <th>max</th>\n",
              "      <td>42.000000</td>\n",
              "      <td>53.000000</td>\n",
              "      <td>2785.000000</td>\n",
              "      <td>3989.000000</td>\n",
              "    </tr>\n",
              "  </tbody>\n",
              "</table>\n",
              "</div>"
            ],
            "text/plain": [
              "       kapal_berangkat   kapal_tiba  penumpang_naik  penumpang_turun\n",
              "count      1819.000000  1819.000000     1819.000000      1819.000000\n",
              "mean          2.953821     3.003299       81.726223        80.573392\n",
              "std           3.251649     3.444993      193.149021       202.683223\n",
              "min           0.000000     0.000000        0.000000         0.000000\n",
              "25%           1.000000     1.000000        0.000000         0.000000\n",
              "50%           2.000000     2.000000       18.000000        17.000000\n",
              "75%           4.000000     4.000000       86.500000        90.000000\n",
              "max          42.000000    53.000000     2785.000000      3989.000000"
            ]
          },
          "metadata": {
            "tags": []
          },
          "execution_count": 53
        }
      ]
    },
    {
      "cell_type": "code",
      "metadata": {
        "colab": {
          "base_uri": "https://localhost:8080/",
          "height": 197
        },
        "id": "g6AVbMwh5KWP",
        "outputId": "e6f1da3f-5eb7-4e4e-ce79-3ee6e020c3b4"
      },
      "source": [
        "# Remove columns which are not required in predictions\n",
        "\n",
        "cols = ['pelabuhan','kapal_berangkat','kapal_tiba','penumpang_turun']\n",
        "Pn.drop(cols, axis = 1, inplace = True)\n",
        "Pn.head()"
      ],
      "execution_count": 54,
      "outputs": [
        {
          "output_type": "execute_result",
          "data": {
            "text/html": [
              "<div>\n",
              "<style scoped>\n",
              "    .dataframe tbody tr th:only-of-type {\n",
              "        vertical-align: middle;\n",
              "    }\n",
              "\n",
              "    .dataframe tbody tr th {\n",
              "        vertical-align: top;\n",
              "    }\n",
              "\n",
              "    .dataframe thead th {\n",
              "        text-align: right;\n",
              "    }\n",
              "</style>\n",
              "<table border=\"1\" class=\"dataframe\">\n",
              "  <thead>\n",
              "    <tr style=\"text-align: right;\">\n",
              "      <th></th>\n",
              "      <th>tanggal</th>\n",
              "      <th>penumpang_naik</th>\n",
              "    </tr>\n",
              "  </thead>\n",
              "  <tbody>\n",
              "    <tr>\n",
              "      <th>0</th>\n",
              "      <td>2020-01-01</td>\n",
              "      <td>549</td>\n",
              "    </tr>\n",
              "    <tr>\n",
              "      <th>1</th>\n",
              "      <td>2020-01-02</td>\n",
              "      <td>831</td>\n",
              "    </tr>\n",
              "    <tr>\n",
              "      <th>2</th>\n",
              "      <td>2020-01-03</td>\n",
              "      <td>921</td>\n",
              "    </tr>\n",
              "    <tr>\n",
              "      <th>3</th>\n",
              "      <td>2020-01-04</td>\n",
              "      <td>1838</td>\n",
              "    </tr>\n",
              "    <tr>\n",
              "      <th>4</th>\n",
              "      <td>2020-01-05</td>\n",
              "      <td>600</td>\n",
              "    </tr>\n",
              "  </tbody>\n",
              "</table>\n",
              "</div>"
            ],
            "text/plain": [
              "     tanggal  penumpang_naik\n",
              "0 2020-01-01             549\n",
              "1 2020-01-02             831\n",
              "2 2020-01-03             921\n",
              "3 2020-01-04            1838\n",
              "4 2020-01-05             600"
            ]
          },
          "metadata": {
            "tags": []
          },
          "execution_count": 54
        }
      ]
    },
    {
      "cell_type": "code",
      "metadata": {
        "id": "wAwZgfa5-Ada",
        "outputId": "c77a0b9e-90c2-4500-b151-0ede42649803",
        "colab": {
          "base_uri": "https://localhost:8080/"
        }
      },
      "source": [
        "# Sort the Order Date \r\n",
        "Pn = Pn.sort_values('tanggal')\r\n",
        "\r\n",
        "#print the sorted values\r\n",
        "print(Pn.head(1))\r\n",
        "\r\n",
        "#check any missing values\r\n",
        "Pn.isnull().sum()"
      ],
      "execution_count": 55,
      "outputs": [
        {
          "output_type": "stream",
          "text": [
            "     tanggal  penumpang_naik\n",
            "0 2020-01-01             549\n"
          ],
          "name": "stdout"
        },
        {
          "output_type": "execute_result",
          "data": {
            "text/plain": [
              "tanggal           0\n",
              "penumpang_naik    0\n",
              "dtype: int64"
            ]
          },
          "metadata": {
            "tags": []
          },
          "execution_count": 55
        }
      ]
    },
    {
      "cell_type": "code",
      "metadata": {
        "id": "MUvv4mvA-ONt",
        "outputId": "44d23442-c963-450a-87f3-0a67c00fe984",
        "colab": {
          "base_uri": "https://localhost:8080/"
        }
      },
      "source": [
        "# grouping sales according to Order Date\r\n",
        "Pn.groupby('tanggal')['penumpang_naik'].sum().reset_index()\r\n",
        "\r\n",
        "# min and max values of Order Date\r\n",
        "print(Pn['tanggal'].min())\r\n",
        "print(Pn['tanggal'].max())"
      ],
      "execution_count": 56,
      "outputs": [
        {
          "output_type": "stream",
          "text": [
            "2020-01-01 00:00:00\n",
            "2020-06-30 00:00:00\n"
          ],
          "name": "stdout"
        }
      ]
    },
    {
      "cell_type": "code",
      "metadata": {
        "id": "uarq4gFk-e5X"
      },
      "source": [
        "import datetime"
      ],
      "execution_count": 57,
      "outputs": []
    },
    {
      "cell_type": "code",
      "metadata": {
        "id": "h3_9y5z__TmX",
        "outputId": "4cb2a07b-2a6e-4282-fe4b-d8f4ecc7fae9",
        "colab": {
          "base_uri": "https://localhost:8080/"
        }
      },
      "source": [
        " import datetime\r\n",
        "date = datetime.date.today()\r\n",
        "date"
      ],
      "execution_count": 58,
      "outputs": [
        {
          "output_type": "execute_result",
          "data": {
            "text/plain": [
              "datetime.date(2020, 12, 9)"
            ]
          },
          "metadata": {
            "tags": []
          },
          "execution_count": 58
        }
      ]
    },
    {
      "cell_type": "code",
      "metadata": {
        "id": "FfPOqQJv_auI",
        "outputId": "e78be2c8-1845-4ee1-a172-98c476959e11",
        "colab": {
          "base_uri": "https://localhost:8080/"
        }
      },
      "source": [
        "#set 'tanggal' as index\r\n",
        "Pn = Pn.set_index('tanggal')\r\n",
        "Pn.index"
      ],
      "execution_count": 59,
      "outputs": [
        {
          "output_type": "execute_result",
          "data": {
            "text/plain": [
              "DatetimeIndex(['2020-01-01', '2020-01-01', '2020-01-01', '2020-01-01',\n",
              "               '2020-01-01', '2020-01-01', '2020-01-01', '2020-01-01',\n",
              "               '2020-01-01', '2020-01-01',\n",
              "               ...\n",
              "               '2020-06-30', '2020-06-30', '2020-06-30', '2020-06-30',\n",
              "               '2020-06-30', '2020-06-30', '2020-06-30', '2020-06-30',\n",
              "               '2020-06-30', '2020-06-30'],\n",
              "              dtype='datetime64[ns]', name='tanggal', length=1819, freq=None)"
            ]
          },
          "metadata": {
            "tags": []
          },
          "execution_count": 59
        }
      ]
    },
    {
      "cell_type": "code",
      "metadata": {
        "id": "bHe4gCeE_p6e",
        "outputId": "21d58813-0abb-4ff3-eb88-599cf69804c0",
        "colab": {
          "base_uri": "https://localhost:8080/"
        }
      },
      "source": [
        "# average the daily sales value for each month \r\n",
        "# use start of each month as the timestamp\r\n",
        "y = Pn['penumpang_naik'].resample('MS').mean()\r\n",
        "y['2020':]"
      ],
      "execution_count": 60,
      "outputs": [
        {
          "output_type": "execute_result",
          "data": {
            "text/plain": [
              "tanggal\n",
              "2020-01-01    156.607670\n",
              "2020-02-01    171.927586\n",
              "2020-03-01     87.206452\n",
              "2020-04-01      6.455556\n",
              "2020-05-01      4.087097\n",
              "2020-06-01     52.223333\n",
              "Freq: MS, Name: penumpang_naik, dtype: float64"
            ]
          },
          "metadata": {
            "tags": []
          },
          "execution_count": 60
        }
      ]
    },
    {
      "cell_type": "markdown",
      "metadata": {
        "id": "oGCj1XHfItcu"
      },
      "source": [
        "# **Data Visualisation**"
      ]
    },
    {
      "cell_type": "code",
      "metadata": {
        "id": "fHfZAz8iEgsD",
        "outputId": "209c37a1-4f73-4531-ae1b-35b90c13acfa",
        "colab": {
          "base_uri": "https://localhost:8080/",
          "height": 428
        }
      },
      "source": [
        "y.plot(figsize = (15, 6))\r\n",
        "plt.show()"
      ],
      "execution_count": 63,
      "outputs": [
        {
          "output_type": "display_data",
          "data": {
            "image/png": "[encoded data removed]",
            "text/plain": [
              "<Figure size 1080x432 with 1 Axes>"
            ]
          },
          "metadata": {
            "tags": []
          }
        }
      ]
    },
    {
      "cell_type": "code",
      "metadata": {
        "id": "koYz9QU8EpvT",
        "outputId": "1dd85eed-9067-4e4f-da13-684fda225af4",
        "colab": {
          "base_uri": "https://localhost:8080/"
        }
      },
      "source": [
        "# set the typical ranges for p, d, q\r\n",
        "p = d = q = range(0, 2)\r\n",
        "\r\n",
        "#take all possible combination for p, d and q\r\n",
        "pdq = list(itertools.product(p, d, q))\r\n",
        "seasonal_pdq = [(x[0], x[1], x[2], 12) for x in list(itertools.product(p, d, q))]\r\n",
        "\r\n",
        "print('Examples of parameter combinations for Seasonal ARIMA...')\r\n",
        "print('SARIMAX: {} x {}'.format(pdq[1], seasonal_pdq[1]))\r\n",
        "print('SARIMAX: {} x {}'.format(pdq[1], seasonal_pdq[2]))\r\n",
        "print('SARIMAX: {} x {}'.format(pdq[2], seasonal_pdq[3]))\r\n",
        "print('SARIMAX: {} x {}'.format(pdq[2], seasonal_pdq[4]))"
      ],
      "execution_count": 66,
      "outputs": [
        {
          "output_type": "stream",
          "text": [
            "Examples of parameter combinations for Seasonal ARIMA...\n",
            "SARIMAX: (0, 0, 1) x (0, 0, 1, 12)\n",
            "SARIMAX: (0, 0, 1) x (0, 1, 0, 12)\n",
            "SARIMAX: (0, 1, 0) x (0, 1, 1, 12)\n",
            "SARIMAX: (0, 1, 0) x (1, 0, 0, 12)\n"
          ],
          "name": "stdout"
        }
      ]
    },
    {
      "cell_type": "code",
      "metadata": {
        "id": "2WH6Hw5-JArN",
        "outputId": "4ee942a2-5157-44ae-d3aa-d11a30d22837",
        "colab": {
          "base_uri": "https://localhost:8080/"
        }
      },
      "source": [
        "# Using Grid Search find the optimal set of parameters that yields the best performance\r\n",
        "for param in pdq:\r\n",
        "    for param_seasonal in seasonal_pdq:\r\n",
        "        try:\r\n",
        "            mod = sm.tsa.statespace.SARIMAX(y, order = param, seasonal_order = param_seasonal, enforce_stationary = False,enforce_invertibility=False) \r\n",
        "            result = mod.fit()   \r\n",
        "            print('ARIMA{}x{}12 - AIC:{}'.format(param, param_seasonal, result.aic))\r\n",
        "        except:\r\n",
        "            continue"
      ],
      "execution_count": 67,
      "outputs": [
        {
          "output_type": "stream",
          "text": [
            "ARIMA(0, 0, 0)x(0, 0, 0, 12)12 - AIC:74.72096560439174\n",
            "ARIMA(0, 0, 0)x(0, 1, 0, 12)12 - AIC:2.0\n",
            "ARIMA(0, 0, 1)x(0, 0, 0, 12)12 - AIC:71.7227119411977\n",
            "ARIMA(0, 1, 0)x(0, 0, 0, 12)12 - AIC:56.62321631778657\n",
            "ARIMA(0, 1, 0)x(0, 1, 0, 12)12 - AIC:2.0\n",
            "ARIMA(0, 1, 1)x(0, 0, 0, 12)12 - AIC:56.4920800528187\n",
            "ARIMA(1, 0, 0)x(0, 0, 0, 12)12 - AIC:70.58269290230554\n",
            "ARIMA(1, 0, 1)x(0, 0, 0, 12)12 - AIC:69.83464599295296\n",
            "ARIMA(1, 1, 0)x(0, 0, 0, 12)12 - AIC:58.00331746184261\n",
            "ARIMA(1, 1, 1)x(0, 0, 0, 12)12 - AIC:59.535462592575705\n"
          ],
          "name": "stdout"
        }
      ]
    },
    {
      "cell_type": "code",
      "metadata": {
        "id": "AoAmbInkJEAM",
        "outputId": "462f4a73-8dfd-413f-e06e-05f0269177a7",
        "colab": {
          "base_uri": "https://localhost:8080/",
          "height": 370
        }
      },
      "source": [
        "#Fitting the ARIMA model using above optimal combination of p, d, q (optimal means combination at which we got lowest AIC score)\r\n",
        "\r\n",
        "model = sm.tsa.statespace.SARIMAX(y, order = (1, 1, 1),\r\n",
        "                                  seasonal_order = (1, 1, 0, 12)\r\n",
        "                                 )\r\n",
        "result = model.fit()\r\n",
        "print(result.summary().tables[1])"
      ],
      "execution_count": 68,
      "outputs": [
        {
          "output_type": "error",
          "ename": "ValueError",
          "evalue": "ignored",
          "traceback": [
            "\u001b[0;31m---------------------------------------------------------------------------\u001b[0m",
            "\u001b[0;31mValueError\u001b[0m                                Traceback (most recent call last)",
            "\u001b[0;32m<ipython-input-68-95201f95642b>\u001b[0m in \u001b[0;36m<module>\u001b[0;34m()\u001b[0m\n\u001b[1;32m      4\u001b[0m                                   \u001b[0mseasonal_order\u001b[0m \u001b[0;34m=\u001b[0m \u001b[0;34m(\u001b[0m\u001b[0;36m1\u001b[0m\u001b[0;34m,\u001b[0m \u001b[0;36m1\u001b[0m\u001b[0;34m,\u001b[0m \u001b[0;36m0\u001b[0m\u001b[0;34m,\u001b[0m \u001b[0;36m12\u001b[0m\u001b[0;34m)\u001b[0m\u001b[0;34m\u001b[0m\u001b[0;34m\u001b[0m\u001b[0m\n\u001b[1;32m      5\u001b[0m                                  )\n\u001b[0;32m----> 6\u001b[0;31m \u001b[0mresult\u001b[0m \u001b[0;34m=\u001b[0m \u001b[0mmodel\u001b[0m\u001b[0;34m.\u001b[0m\u001b[0mfit\u001b[0m\u001b[0;34m(\u001b[0m\u001b[0;34m)\u001b[0m\u001b[0;34m\u001b[0m\u001b[0;34m\u001b[0m\u001b[0m\n\u001b[0m\u001b[1;32m      7\u001b[0m \u001b[0mprint\u001b[0m\u001b[0;34m(\u001b[0m\u001b[0mresult\u001b[0m\u001b[0;34m.\u001b[0m\u001b[0msummary\u001b[0m\u001b[0;34m(\u001b[0m\u001b[0;34m)\u001b[0m\u001b[0;34m.\u001b[0m\u001b[0mtables\u001b[0m\u001b[0;34m[\u001b[0m\u001b[0;36m1\u001b[0m\u001b[0;34m]\u001b[0m\u001b[0;34m)\u001b[0m\u001b[0;34m\u001b[0m\u001b[0;34m\u001b[0m\u001b[0m\n",
            "\u001b[0;32m/usr/local/lib/python3.6/dist-packages/statsmodels/tsa/statespace/mlemodel.py\u001b[0m in \u001b[0;36mfit\u001b[0;34m(self, start_params, transformed, cov_type, cov_kwds, method, maxiter, full_output, disp, callback, return_params, optim_score, optim_complex_step, optim_hessian, flags, **kwargs)\u001b[0m\n\u001b[1;32m    444\u001b[0m         \"\"\"\n\u001b[1;32m    445\u001b[0m         \u001b[0;32mif\u001b[0m \u001b[0mstart_params\u001b[0m \u001b[0;32mis\u001b[0m \u001b[0;32mNone\u001b[0m\u001b[0;34m:\u001b[0m\u001b[0;34m\u001b[0m\u001b[0;34m\u001b[0m\u001b[0m\n\u001b[0;32m--> 446\u001b[0;31m             \u001b[0mstart_params\u001b[0m \u001b[0;34m=\u001b[0m \u001b[0mself\u001b[0m\u001b[0;34m.\u001b[0m\u001b[0mstart_params\u001b[0m\u001b[0;34m\u001b[0m\u001b[0;34m\u001b[0m\u001b[0m\n\u001b[0m\u001b[1;32m    447\u001b[0m             \u001b[0mtransformed\u001b[0m \u001b[0;34m=\u001b[0m \u001b[0;32mTrue\u001b[0m\u001b[0;34m\u001b[0m\u001b[0;34m\u001b[0m\u001b[0m\n\u001b[1;32m    448\u001b[0m \u001b[0;34m\u001b[0m\u001b[0m\n",
            "\u001b[0;32m/usr/local/lib/python3.6/dist-packages/statsmodels/tsa/statespace/sarimax.py\u001b[0m in \u001b[0;36mstart_params\u001b[0;34m(self)\u001b[0m\n\u001b[1;32m    936\u001b[0m          \u001b[0mparams_variance\u001b[0m\u001b[0;34m)\u001b[0m \u001b[0;34m=\u001b[0m \u001b[0mself\u001b[0m\u001b[0;34m.\u001b[0m\u001b[0m_conditional_sum_squares\u001b[0m\u001b[0;34m(\u001b[0m\u001b[0;34m\u001b[0m\u001b[0;34m\u001b[0m\u001b[0m\n\u001b[1;32m    937\u001b[0m             \u001b[0mendog\u001b[0m\u001b[0;34m,\u001b[0m \u001b[0mself\u001b[0m\u001b[0;34m.\u001b[0m\u001b[0mk_ar\u001b[0m\u001b[0;34m,\u001b[0m \u001b[0mself\u001b[0m\u001b[0;34m.\u001b[0m\u001b[0mpolynomial_ar\u001b[0m\u001b[0;34m,\u001b[0m \u001b[0mself\u001b[0m\u001b[0;34m.\u001b[0m\u001b[0mk_ma\u001b[0m\u001b[0;34m,\u001b[0m\u001b[0;34m\u001b[0m\u001b[0;34m\u001b[0m\u001b[0m\n\u001b[0;32m--> 938\u001b[0;31m             \u001b[0mself\u001b[0m\u001b[0;34m.\u001b[0m\u001b[0mpolynomial_ma\u001b[0m\u001b[0;34m,\u001b[0m \u001b[0mself\u001b[0m\u001b[0;34m.\u001b[0m\u001b[0mk_trend\u001b[0m\u001b[0;34m,\u001b[0m \u001b[0mtrend_data\u001b[0m\u001b[0;34m\u001b[0m\u001b[0;34m\u001b[0m\u001b[0m\n\u001b[0m\u001b[1;32m    939\u001b[0m         )\n\u001b[1;32m    940\u001b[0m \u001b[0;34m\u001b[0m\u001b[0m\n",
            "\u001b[0;32m/usr/local/lib/python3.6/dist-packages/statsmodels/tsa/statespace/sarimax.py\u001b[0m in \u001b[0;36m_conditional_sum_squares\u001b[0;34m(endog, k_ar, polynomial_ar, k_ma, polynomial_ma, k_trend, trend_data)\u001b[0m\n\u001b[1;32m    843\u001b[0m             \u001b[0;32mif\u001b[0m \u001b[0mk_ma\u001b[0m \u001b[0;34m>\u001b[0m \u001b[0;36m0\u001b[0m\u001b[0;34m:\u001b[0m\u001b[0;34m\u001b[0m\u001b[0;34m\u001b[0m\u001b[0m\n\u001b[1;32m    844\u001b[0m                 \u001b[0mY\u001b[0m \u001b[0;34m=\u001b[0m \u001b[0mendog\u001b[0m\u001b[0;34m[\u001b[0m\u001b[0mk\u001b[0m\u001b[0;34m:\u001b[0m\u001b[0;34m]\u001b[0m\u001b[0;34m\u001b[0m\u001b[0;34m\u001b[0m\u001b[0m\n\u001b[0;32m--> 845\u001b[0;31m                 \u001b[0mX\u001b[0m \u001b[0;34m=\u001b[0m \u001b[0mlagmat\u001b[0m\u001b[0;34m(\u001b[0m\u001b[0mendog\u001b[0m\u001b[0;34m,\u001b[0m \u001b[0mk\u001b[0m\u001b[0;34m,\u001b[0m \u001b[0mtrim\u001b[0m\u001b[0;34m=\u001b[0m\u001b[0;34m'both'\u001b[0m\u001b[0;34m)\u001b[0m\u001b[0;34m\u001b[0m\u001b[0;34m\u001b[0m\u001b[0m\n\u001b[0m\u001b[1;32m    846\u001b[0m                 \u001b[0mparams_ar\u001b[0m \u001b[0;34m=\u001b[0m \u001b[0mnp\u001b[0m\u001b[0;34m.\u001b[0m\u001b[0mlinalg\u001b[0m\u001b[0;34m.\u001b[0m\u001b[0mpinv\u001b[0m\u001b[0;34m(\u001b[0m\u001b[0mX\u001b[0m\u001b[0;34m)\u001b[0m\u001b[0;34m.\u001b[0m\u001b[0mdot\u001b[0m\u001b[0;34m(\u001b[0m\u001b[0mY\u001b[0m\u001b[0;34m)\u001b[0m\u001b[0;34m\u001b[0m\u001b[0;34m\u001b[0m\u001b[0m\n\u001b[1;32m    847\u001b[0m                 \u001b[0mresiduals\u001b[0m \u001b[0;34m=\u001b[0m \u001b[0mY\u001b[0m \u001b[0;34m-\u001b[0m \u001b[0mnp\u001b[0m\u001b[0;34m.\u001b[0m\u001b[0mdot\u001b[0m\u001b[0;34m(\u001b[0m\u001b[0mX\u001b[0m\u001b[0;34m,\u001b[0m \u001b[0mparams_ar\u001b[0m\u001b[0;34m)\u001b[0m\u001b[0;34m\u001b[0m\u001b[0;34m\u001b[0m\u001b[0m\n",
            "\u001b[0;32m/usr/local/lib/python3.6/dist-packages/statsmodels/tsa/tsatools.py\u001b[0m in \u001b[0;36mlagmat\u001b[0;34m(x, maxlag, trim, original, use_pandas)\u001b[0m\n\u001b[1;32m    406\u001b[0m         \u001b[0mdropidx\u001b[0m \u001b[0;34m=\u001b[0m \u001b[0mnvar\u001b[0m\u001b[0;34m\u001b[0m\u001b[0;34m\u001b[0m\u001b[0m\n\u001b[1;32m    407\u001b[0m     \u001b[0;32mif\u001b[0m \u001b[0mmaxlag\u001b[0m \u001b[0;34m>=\u001b[0m \u001b[0mnobs\u001b[0m\u001b[0;34m:\u001b[0m\u001b[0;34m\u001b[0m\u001b[0;34m\u001b[0m\u001b[0m\n\u001b[0;32m--> 408\u001b[0;31m         \u001b[0;32mraise\u001b[0m \u001b[0mValueError\u001b[0m\u001b[0;34m(\u001b[0m\u001b[0;34m\"maxlag should be < nobs\"\u001b[0m\u001b[0;34m)\u001b[0m\u001b[0;34m\u001b[0m\u001b[0;34m\u001b[0m\u001b[0m\n\u001b[0m\u001b[1;32m    409\u001b[0m     \u001b[0mlm\u001b[0m \u001b[0;34m=\u001b[0m \u001b[0mnp\u001b[0m\u001b[0;34m.\u001b[0m\u001b[0mzeros\u001b[0m\u001b[0;34m(\u001b[0m\u001b[0;34m(\u001b[0m\u001b[0mnobs\u001b[0m \u001b[0;34m+\u001b[0m \u001b[0mmaxlag\u001b[0m\u001b[0;34m,\u001b[0m \u001b[0mnvar\u001b[0m \u001b[0;34m*\u001b[0m \u001b[0;34m(\u001b[0m\u001b[0mmaxlag\u001b[0m \u001b[0;34m+\u001b[0m \u001b[0;36m1\u001b[0m\u001b[0;34m)\u001b[0m\u001b[0;34m)\u001b[0m\u001b[0;34m)\u001b[0m\u001b[0;34m\u001b[0m\u001b[0;34m\u001b[0m\u001b[0m\n\u001b[1;32m    410\u001b[0m     \u001b[0;32mfor\u001b[0m \u001b[0mk\u001b[0m \u001b[0;32min\u001b[0m \u001b[0mrange\u001b[0m\u001b[0;34m(\u001b[0m\u001b[0;36m0\u001b[0m\u001b[0;34m,\u001b[0m \u001b[0mint\u001b[0m\u001b[0;34m(\u001b[0m\u001b[0mmaxlag\u001b[0m \u001b[0;34m+\u001b[0m \u001b[0;36m1\u001b[0m\u001b[0;34m)\u001b[0m\u001b[0;34m)\u001b[0m\u001b[0;34m:\u001b[0m\u001b[0;34m\u001b[0m\u001b[0;34m\u001b[0m\u001b[0m\n",
            "\u001b[0;31mValueError\u001b[0m: maxlag should be < nobs"
          ]
        }
      ]
    }
  ]
}